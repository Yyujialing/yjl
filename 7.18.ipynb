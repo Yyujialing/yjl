{
 "cells": [
  {
   "cell_type": "markdown",
   "metadata": {},
   "source": [
    "# 选择\n",
    "## 布尔类型、数值和表达式\n",
    "![](../Photo/33.png)\n",
    "- 注意：比较运算符的相等是两个等到，一个等到代表赋值\n",
    "- 在Python中可以用整型0来代表False，其他数字来代表True\n",
    "- 后面还会讲到 is 在判断语句中的用发"
   ]
  },
  {
   "cell_type": "code",
   "execution_count": 4,
   "metadata": {},
   "outputs": [
    {
     "ename": "IndentationError",
     "evalue": "unexpected indent (<ipython-input-4-d748643e43b8>, line 13)",
     "output_type": "error",
     "traceback": [
      "\u001b[1;36m  File \u001b[1;32m\"<ipython-input-4-d748643e43b8>\"\u001b[1;36m, line \u001b[1;32m13\u001b[0m\n\u001b[1;33m    print('余额 ',r)\u001b[0m\n\u001b[1;37m    ^\u001b[0m\n\u001b[1;31mIndentationError\u001b[0m\u001b[1;31m:\u001b[0m unexpected indent\n"
     ]
    }
   ],
   "source": [
    "y=1000\n",
    "#b=input('输入银行密码 ')\n",
    "#if b=1234:\n",
    "#    print('请继续输入取款金额' ,a)\n",
    "#else:\n",
    "#    print('密码错误！')\n",
    "a=input('输入金额',a)\n",
    "if y>=a:\n",
    "    print('取出金额',a)\n",
    "r=input('剩余金额',r)\n",
    "r=y-a\n",
    "y=r\n",
    "    print('余额 ',r)\n",
    "else:\n",
    "    print('余额不足，请充值')\n",
    "\n",
    "\n",
    "    \n",
    "    "
   ]
  },
  {
   "cell_type": "markdown",
   "metadata": {},
   "source": [
    "## 字符串的比较使用ASCII值"
   ]
  },
  {
   "cell_type": "markdown",
   "metadata": {},
   "source": [
    "## Markdown \n",
    "- https://github.com/younghz/Markdown"
   ]
  },
  {
   "cell_type": "markdown",
   "metadata": {},
   "source": [
    "## EP:\n",
    "- <img src=\"../Photo/34.png\"></img>\n",
    "- 输入一个数字，判断其实奇数还是偶数"
   ]
  },
  {
   "cell_type": "code",
   "execution_count": 5,
   "metadata": {},
   "outputs": [
    {
     "data": {
      "text/plain": [
       "True"
      ]
     },
     "execution_count": 5,
     "metadata": {},
     "output_type": "execute_result"
    }
   ],
   "source": [
    "bool(1.0)"
   ]
  },
  {
   "cell_type": "markdown",
   "metadata": {},
   "source": [
    "## 产生随机数字\n",
    "- 函数random.randint(a,b) 可以用来产生一个a和b之间且包括a和b的随机整数"
   ]
  },
  {
   "cell_type": "code",
   "execution_count": 6,
   "metadata": {},
   "outputs": [
    {
     "data": {
      "text/plain": [
       "6"
      ]
     },
     "execution_count": 6,
     "metadata": {},
     "output_type": "execute_result"
    }
   ],
   "source": [
    "import random\n",
    "random.randint(0,10)"
   ]
  },
  {
   "cell_type": "markdown",
   "metadata": {},
   "source": [
    "##  其他random方法\n",
    "- random.random 返回0.0到1.0之间前闭后开区间的随机浮点\n",
    "- random.randrange(a,b) 前闭后开"
   ]
  },
  {
   "cell_type": "code",
   "execution_count": null,
   "metadata": {},
   "outputs": [],
   "source": []
  },
  {
   "cell_type": "markdown",
   "metadata": {},
   "source": [
    "## EP：\n",
    "- 产生两个随机整数number1和number2，然后显示给用户，使用户输入数字的和，并判定其是否正确\n",
    "- 进阶:写一个随机序号点名程序"
   ]
  },
  {
   "cell_type": "code",
   "execution_count": 13,
   "metadata": {},
   "outputs": [
    {
     "data": {
      "text/plain": [
       "7"
      ]
     },
     "execution_count": 13,
     "metadata": {},
     "output_type": "execute_result"
    }
   ],
   "source": [
    "import random\n",
    "random.randint(0,20)\n"
   ]
  },
  {
   "cell_type": "markdown",
   "metadata": {},
   "source": [
    "## if语句\n",
    "- 如果条件正确就执行一个单向if语句，亦即当条件为真的时候才执行if内部的语句\n",
    "- Python有很多选择语句:\n",
    "> - 单向if \n",
    "  - 双向if-else\n",
    "  - 嵌套if\n",
    "  - 多向if-elif-else\n",
    "  \n",
    "- 注意：当语句含有子语句的时候，那么一定至少要有一个缩进，也就是说如果有儿子存在，那么一定要缩进\n",
    "- 切记不可tab键和space混用，单用tab 或者 space\n",
    "- 当你输出的结果是无论if是否为真时都需要显示时，语句应该与if对齐"
   ]
  },
  {
   "cell_type": "code",
   "execution_count": 15,
   "metadata": {},
   "outputs": [
    {
     "name": "stdout",
     "output_type": "stream",
     "text": [
      "输入成绩等级 89\n"
     ]
    },
    {
     "ename": "TypeError",
     "evalue": "'>' not supported between instances of 'str' and 'int'",
     "output_type": "error",
     "traceback": [
      "\u001b[1;31m---------------------------------------------------------------------------\u001b[0m",
      "\u001b[1;31mTypeError\u001b[0m                                 Traceback (most recent call last)",
      "\u001b[1;32m<ipython-input-15-c3e15771f40a>\u001b[0m in \u001b[0;36m<module>\u001b[1;34m()\u001b[0m\n\u001b[0;32m      1\u001b[0m \u001b[0ma\u001b[0m\u001b[1;33m=\u001b[0m\u001b[0minput\u001b[0m\u001b[1;33m(\u001b[0m\u001b[1;34m'输入成绩等级 '\u001b[0m\u001b[1;33m)\u001b[0m\u001b[1;33m\u001b[0m\u001b[0m\n\u001b[1;32m----> 2\u001b[1;33m \u001b[1;32mif\u001b[0m \u001b[0ma\u001b[0m\u001b[1;33m>\u001b[0m\u001b[1;36m60\u001b[0m\u001b[1;33m:\u001b[0m\u001b[1;33m\u001b[0m\u001b[0m\n\u001b[0m\u001b[0;32m      3\u001b[0m     \u001b[0mprint\u001b[0m\u001b[1;33m(\u001b[0m\u001b[1;34m'jige'\u001b[0m\u001b[1;33m)\u001b[0m\u001b[1;33m\u001b[0m\u001b[0m\n\u001b[0;32m      4\u001b[0m \u001b[1;32melse\u001b[0m\u001b[1;33m:\u001b[0m\u001b[1;33m\u001b[0m\u001b[0m\n\u001b[0;32m      5\u001b[0m     \u001b[0mprint\u001b[0m\u001b[1;33m(\u001b[0m\u001b[1;34m'nujige'\u001b[0m\u001b[1;33m)\u001b[0m\u001b[1;33m\u001b[0m\u001b[0m\n",
      "\u001b[1;31mTypeError\u001b[0m: '>' not supported between instances of 'str' and 'int'"
     ]
    }
   ],
   "source": [
    "a=input('输入成绩等级 ')\n",
    "if a>60:\n",
    "    print('jige')\n",
    "else:\n",
    "    print('nujige')"
   ]
  },
  {
   "cell_type": "markdown",
   "metadata": {},
   "source": [
    "## EP：\n",
    "- 用户输入一个数字，判断其实奇数还是偶数\n",
    "- 进阶：可以查看下4.5实例研究猜生日"
   ]
  },
  {
   "cell_type": "code",
   "execution_count": null,
   "metadata": {},
   "outputs": [],
   "source": []
  },
  {
   "cell_type": "markdown",
   "metadata": {},
   "source": [
    "## 双向if-else 语句\n",
    "- 如果条件为真，那么走if内部语句，否则走else内部语句"
   ]
  },
  {
   "cell_type": "markdown",
   "metadata": {},
   "source": [
    "## EP：\n",
    "- 产生两个随机整数number1和number2，然后显示给用户，使用户输入数字，并判定其是否正确,如果正确打印“you‘re correct”，否则打印正确错误"
   ]
  },
  {
   "cell_type": "markdown",
   "metadata": {},
   "source": [
    "## 嵌套if 和多向if-elif-else\n",
    "![](../Photo/35.png)"
   ]
  },
  {
   "cell_type": "markdown",
   "metadata": {},
   "source": [
    "## EP：\n",
    "- 提示用户输入一个年份，然后显示表示这一年的动物\n",
    "![](../Photo/36.png)\n",
    "- 计算身体质量指数的程序\n",
    "- BMI = 以千克为单位的体重除以以米为单位的身高\n",
    "![](../Photo/37.png)"
   ]
  },
  {
   "cell_type": "code",
   "execution_count": 43,
   "metadata": {},
   "outputs": [
    {
     "name": "stdout",
     "output_type": "stream",
     "text": [
      "输入年份2018\n",
      "狗\n"
     ]
    }
   ],
   "source": [
    "year=eval(input('输入年份'))\n",
    "a=year%12\n",
    "if a==0:\n",
    "    print('猴')\n",
    "elif a==1:\n",
    "    print('鸡')\n",
    "elif a==2:\n",
    "    print('狗')\n",
    "elif a==3:\n",
    "    print('猪')\n",
    "elif a==4:\n",
    "    print('鼠')\n",
    "elif a==5:\n",
    "    print('牛')\n",
    "elif a==6:\n",
    "    print('虎')\n",
    "elif a==7:\n",
    "    print('兔')\n",
    "elif a==8:\n",
    "    print('龙')\n",
    "elif a==9:\n",
    "    print('蛇')\n",
    "elif a==10:\n",
    "    print('马')\n",
    "elif a==11:\n",
    "    print('羊')"
   ]
  },
  {
   "cell_type": "markdown",
   "metadata": {},
   "source": [
    "## 逻辑运算符\n",
    "![](../Photo/38.png)"
   ]
  },
  {
   "cell_type": "markdown",
   "metadata": {},
   "source": [
    "![](../Photo/39.png)\n",
    "![](../Photo/40.png)"
   ]
  },
  {
   "cell_type": "markdown",
   "metadata": {},
   "source": [
    "## EP：\n",
    "- 判定闰年：一个年份如果能被4整除但不能被100整除，或者能被400整除，那么这个年份就是闰年\n",
    "- 提示用户输入一个年份，并返回是否是闰年\n",
    "- 提示用户输入一个数字，判断其是否为水仙花数"
   ]
  },
  {
   "cell_type": "code",
   "execution_count": 44,
   "metadata": {},
   "outputs": [
    {
     "name": "stdout",
     "output_type": "stream",
     "text": [
      "输入年份44\n",
      "判断为闰年\n"
     ]
    }
   ],
   "source": [
    "a=eval(input('输入年份'))\n",
    "if(a%4==0 and a%100!=0) or a%400==0:\n",
    "    print('判断为闰年')\n",
    "else:\n",
    "    print('不是为闰年')"
   ]
  },
  {
   "cell_type": "code",
   "execution_count": 47,
   "metadata": {},
   "outputs": [
    {
     "name": "stdout",
     "output_type": "stream",
     "text": [
      "输入一个三位数100\n",
      "not\n"
     ]
    }
   ],
   "source": [
    "a=eval(input('输入一个三位数'))\n",
    "str_a =str(a)\n",
    "bai=int(str_a[0])\n",
    "shi=int(str_a[1])\n",
    "ge=int(str_a[2])\n",
    "if a==bai**3+shi**3+ge**3:\n",
    "    print('yes')\n",
    "else:\n",
    "    print('not')\n",
    "\n",
    "\n"
   ]
  },
  {
   "cell_type": "code",
   "execution_count": 48,
   "metadata": {},
   "outputs": [
    {
     "name": "stdout",
     "output_type": "stream",
     "text": [
      "153\n",
      "370\n",
      "371\n",
      "407\n"
     ]
    }
   ],
   "source": [
    "for a in range(100,1000):\n",
    "    str_a =str(a)\n",
    "    bai=int(str_a[0])\n",
    "    shi=int(str_a[1])\n",
    "    ge=int(str_a[2])\n",
    "    if a==bai**3+shi**3+ge**3:\n",
    "        print(a)\n"
   ]
  },
  {
   "cell_type": "markdown",
   "metadata": {},
   "source": [
    "## 实例研究：彩票\n",
    "![](../Photo/41.png)"
   ]
  },
  {
   "cell_type": "code",
   "execution_count": null,
   "metadata": {},
   "outputs": [],
   "source": []
  },
  {
   "cell_type": "markdown",
   "metadata": {},
   "source": [
    "# Homework\n",
    "- 1\n",
    "![](../Photo/42.png)"
   ]
  },
  {
   "cell_type": "code",
   "execution_count": 118,
   "metadata": {},
   "outputs": [
    {
     "name": "stdout",
     "output_type": "stream",
     "text": [
      "输入a，b，c1,2,3\n",
      "the eqution has no real roots\n"
     ]
    }
   ],
   "source": [
    "import math\n",
    "a,b,c=eval(input('输入a，b，c' ))\n",
    "m=b**2-4*a*c\n",
    "if m>0:\n",
    "    r1=(-b+math.sqrt(m))/(2*a)\n",
    "    r2=(-b-math.sqrt(m))/(2*a)\n",
    "    print(r1,r2)\n",
    "elif m==0:\n",
    "    r1=(-b+math.sqrt(m))/(2*a)\n",
    "    print(r1)\n",
    "else:\n",
    "    print(\"the eqution has no real roots\")\n"
   ]
  },
  {
   "cell_type": "markdown",
   "metadata": {},
   "source": [
    "- 2\n",
    "![](../Photo/43.png)"
   ]
  },
  {
   "cell_type": "code",
   "execution_count": 69,
   "metadata": {},
   "outputs": [
    {
     "name": "stdout",
     "output_type": "stream",
     "text": [
      "输入一个数 29\n",
      "答案为假\n"
     ]
    }
   ],
   "source": [
    "import random\n",
    "a=random.randint(0,99)\n",
    "b=random.randint(0,99)\n",
    "n=eval(input('输入一个数 '))\n",
    "m=a+b\n",
    "if n==m:\n",
    "    print('答案为真')\n",
    "else:\n",
    "    print('答案为假')\n",
    "    "
   ]
  },
  {
   "cell_type": "markdown",
   "metadata": {},
   "source": [
    "- 3\n",
    "![](../Photo/44.png)"
   ]
  },
  {
   "cell_type": "code",
   "execution_count": 81,
   "metadata": {},
   "outputs": [
    {
     "name": "stdout",
     "output_type": "stream",
     "text": [
      "输入今天是周几 0\n",
      "输入几天之后 31\n",
      "是星期:  3\n"
     ]
    }
   ],
   "source": [
    "\n",
    "d=eval(input('输入今天是周几 '))\n",
    "t=eval(input('输入几天之后 '))\n",
    "s=t%7+d%3\n",
    "print('是星期: ',s)\n"
   ]
  },
  {
   "cell_type": "markdown",
   "metadata": {},
   "source": [
    "- 4\n",
    "![](../Photo/45.png)"
   ]
  },
  {
   "cell_type": "code",
   "execution_count": 73,
   "metadata": {},
   "outputs": [
    {
     "name": "stdout",
     "output_type": "stream",
     "text": [
      "输入三个整数 12,90,34\n",
      "12 34 90\n"
     ]
    }
   ],
   "source": [
    "a,b,c=eval(input('输入三个整数 '))\n",
    "if a>b and b>c:\n",
    "    print(c,b,c)\n",
    "elif a>b and a>c and b<c:\n",
    "    print(b,c,a)\n",
    "elif b>a and a>c:\n",
    "    print(c,a,b)\n",
    "elif b>a and b>c and c>a:\n",
    "    print(a,c,b)\n",
    "elif c>a and a>b:\n",
    "    print(b,a,c)\n",
    "else :\n",
    "    print(a,b,c)"
   ]
  },
  {
   "cell_type": "markdown",
   "metadata": {},
   "source": [
    "- 5\n",
    "![](../Photo/46.png)"
   ]
  },
  {
   "cell_type": "code",
   "execution_count": 82,
   "metadata": {},
   "outputs": [
    {
     "name": "stdout",
     "output_type": "stream",
     "text": [
      "第一种大米的单价和重量 50,24.59\n",
      "第二种大米的单价和重量 25,11.99\n",
      "第二种大米更好\n"
     ]
    }
   ],
   "source": [
    "a,b=eval(input('第一种大米的单价和重量 '))\n",
    "a1,b1=eval(input('第二种大米的单价和重量 '))\n",
    "s=a*b\n",
    "s1=a1*b1\n",
    "if s>s1:\n",
    "    print('第二种大米更好')\n",
    "else:\n",
    "    print('第一种大米更好')"
   ]
  },
  {
   "cell_type": "markdown",
   "metadata": {},
   "source": [
    "- 6\n",
    "![](../Photo/47.png)"
   ]
  },
  {
   "cell_type": "code",
   "execution_count": 125,
   "metadata": {},
   "outputs": [
    {
     "data": {
      "text/plain": [
       "True"
      ]
     },
     "execution_count": 125,
     "metadata": {},
     "output_type": "execute_result"
    }
   ],
   "source": [
    "y=[1,3,5,7,8,10,12]\n",
    "1 in y"
   ]
  },
  {
   "cell_type": "code",
   "execution_count": 127,
   "metadata": {},
   "outputs": [
    {
     "name": "stdout",
     "output_type": "stream",
     "text": [
      "输入月和年 3,2005\n",
      "有31天\n"
     ]
    }
   ],
   "source": [
    "mo = [1,3,5,7,8,10,12]\n",
    "y,n=eval(input('输入月和年 '))\n",
    "if(n%4==0 and n%100!=0) or n%400==0:\n",
    "    if y==2:\n",
    "        print('二月份29天')\n",
    "    elif y in mo:\n",
    "        print('有31天')\n",
    "    else:\n",
    "        print('有30天')\n",
    "else:\n",
    "    if y==2:\n",
    "        print('二月份28天')\n",
    "    elif y in mo :\n",
    "        print('有31天')\n",
    "    else:\n",
    "        print('有30天')"
   ]
  },
  {
   "cell_type": "markdown",
   "metadata": {},
   "source": [
    "- 7\n",
    "![](../Photo/48.png)"
   ]
  },
  {
   "cell_type": "code",
   "execution_count": 88,
   "metadata": {},
   "outputs": [
    {
     "name": "stdout",
     "output_type": "stream",
     "text": [
      "输入猜测值 1\n",
      "猜测值正确\n"
     ]
    }
   ],
   "source": [
    "import random\n",
    "a=random.randint(0,1)   \n",
    "c=eval(input('输入猜测值 '))\n",
    "if a==0 and c==0 or a==1 and c==1:\n",
    "    print('猜测值正确')\n",
    "else:\n",
    "    print('猜测错误')\n"
   ]
  },
  {
   "cell_type": "markdown",
   "metadata": {},
   "source": [
    "- 8\n",
    "![](../Photo/49.png)"
   ]
  },
  {
   "cell_type": "code",
   "execution_count": 91,
   "metadata": {},
   "outputs": [
    {
     "name": "stdout",
     "output_type": "stream",
     "text": [
      "随机输入 0\n",
      "平局\n"
     ]
    }
   ],
   "source": [
    "import random\n",
    "a=random.randint(0,2)\n",
    "d=eval(input('随机输入 '))\n",
    "if a==0 and d>0:\n",
    "    print('you win')\n",
    "elif a==0 and d==0:\n",
    "    print('平局')\n",
    "elif a==1 and d<a:\n",
    "    print('failer')\n",
    "elif a==1 and d>a:\n",
    "    print(' you win')\n",
    "elif a==2 and d<a:\n",
    "    print('failer')\n",
    "elif a==2 and d>a:\n",
    "    print(' you win')\n",
    "    "
   ]
  },
  {
   "cell_type": "markdown",
   "metadata": {},
   "source": [
    "- 9\n",
    "![](../Photo/50.png)"
   ]
  },
  {
   "cell_type": "code",
   "execution_count": 138,
   "metadata": {},
   "outputs": [
    {
     "name": "stdout",
     "output_type": "stream",
     "text": [
      "输入年份 2013\n",
      "输入月份 1\n",
      "输入天 25\n",
      "为星期五\n"
     ]
    }
   ],
   "source": [
    "import math\n",
    "year=eval(input('输入年份 '))\n",
    "m=eval(input('输入月份 '))\n",
    "q=eval(input('输入天 '))\n",
    "if m==1:\n",
    "    m=13\n",
    "    year = year-1\n",
    "if m==2:\n",
    "    m=14\n",
    "    year = year-1\n",
    "h=(q+math.floor(26*(m+1)/10)+year%100+math.floor((year%100)/4)+math.floor(math.floor(year/100)/4)+5*math.floor(year/100))%7\n",
    "if h==0:\n",
    "    print('为星期六')\n",
    "elif h==1:\n",
    "    print('为星期日')\n",
    "elif h==2:\n",
    "    print('为星期一')\n",
    "elif h==3:\n",
    "    print('为星期二')\n",
    "elif h==4:\n",
    "    print('为星期三')\n",
    "elif h==5:\n",
    "    print('为星期四')\n",
    "elif h==6:\n",
    "    print('为星期五')\n",
    "\n"
   ]
  },
  {
   "cell_type": "markdown",
   "metadata": {},
   "source": [
    "- 10\n",
    "![](../Photo/51.png)"
   ]
  },
  {
   "cell_type": "code",
   "execution_count": null,
   "metadata": {},
   "outputs": [],
   "source": []
  },
  {
   "cell_type": "markdown",
   "metadata": {},
   "source": [
    "- 11\n",
    "![](../Photo/52.png)"
   ]
  },
  {
   "cell_type": "code",
   "execution_count": 131,
   "metadata": {},
   "outputs": [
    {
     "name": "stdout",
     "output_type": "stream",
     "text": [
      "输入一个三位数 123\n",
      "不是回文数\n"
     ]
    }
   ],
   "source": [
    "a=eval(input('输入一个三位数 '))\n",
    "r=''\n",
    "for i in str(a):\n",
    "    r = i + r\n",
    "if r==str(a):\n",
    "    print('此数字为回文数')\n",
    "else:\n",
    "    print('不是回文数')\n",
    "    "
   ]
  },
  {
   "cell_type": "markdown",
   "metadata": {},
   "source": [
    "- 12\n",
    "![](../Photo/53.png)"
   ]
  },
  {
   "cell_type": "code",
   "execution_count": 106,
   "metadata": {},
   "outputs": [
    {
     "name": "stdout",
     "output_type": "stream",
     "text": [
      "输入三角形三个边 1,1,1\n",
      "这个输入合法 3\n"
     ]
    }
   ],
   "source": [
    "a,b,c=eval(input('输入三角形三个边 '))\n",
    "z=a+b+c\n",
    "if a+b>c or a+c>b or b+c>a:\n",
    "    print('这个输入合法',z)\n",
    "else:\n",
    "    print('这个输入不合法')\n"
   ]
  }
 ],
 "metadata": {
  "kernelspec": {
   "display_name": "Python 3",
   "language": "python",
   "name": "python3"
  },
  "language_info": {
   "codemirror_mode": {
    "name": "ipython",
    "version": 3
   },
   "file_extension": ".py",
   "mimetype": "text/x-python",
   "name": "python",
   "nbconvert_exporter": "python",
   "pygments_lexer": "ipython3",
   "version": "3.6.4"
  }
 },
 "nbformat": 4,
 "nbformat_minor": 2
}
